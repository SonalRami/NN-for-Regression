{
 "cells": [
  {
   "cell_type": "markdown",
   "metadata": {},
   "source": [
    "## How to Fit Regression Data with CNN Model in Python"
   ]
  },
  {
   "cell_type": "markdown",
   "metadata": {},
   "source": [
    "#### Necessary libraries\n",
    "* Numpy\n",
    "* Pandas\n",
    "* Scikit.learn\n",
    "* Tensorflow\n",
    "* Keras\n",
    "* Matplotlib\n"
   ]
  },
  {
   "cell_type": "markdown",
   "metadata": {},
   "source": [
    "### Table of Contents\n",
    "\n",
    "* [Step1: Data Loading](#Data_loading) \n",
    "* [Step2: Preparation of training and testing samples](#Prep_train_test_samples)\n",
    "* [Step3: Building Neural Network](#Building_NN)\n",
    "* [Step4: Fit model](#fit_model)\n",
    "* [Step5: Predictions](#predictions)\n",
    "* [Step6: Visualizing the results](#results)"
   ]
  },
  {
   "cell_type": "markdown",
   "metadata": {},
   "source": [
    "### Step1: Data Loading <a class=\"anchor\" id=\"Data_loading\"></a>"
   ]
  },
  {
   "cell_type": "code",
   "execution_count": 48,
   "metadata": {},
   "outputs": [],
   "source": [
    "from sklearn.datasets import load_boston\n",
    "from keras.models import Sequential\n",
    "from keras.layers import Dense, Conv1D, Flatten\n",
    "from sklearn.model_selection import train_test_split\n",
    "from sklearn.metrics import mean_squared_error\n",
    "import matplotlib.pyplot as plt\n",
    "from pandas.plotting import register_matplotlib_converters\n",
    "import seaborn as sns\n",
    "from pylab import rcParams\n",
    "\n",
    "\n",
    "register_matplotlib_converters()\n",
    "sns.set(style='whitegrid', palette='muted', font_scale=1.5)\n",
    "\n",
    "rcParams['figure.figsize'] = 22, 10"
   ]
  },
  {
   "cell_type": "code",
   "execution_count": 49,
   "metadata": {},
   "outputs": [],
   "source": [
    "#load dataset\n",
    "boston = load_boston()"
   ]
  },
  {
   "cell_type": "code",
   "execution_count": 50,
   "metadata": {},
   "outputs": [
    {
     "name": "stdout",
     "output_type": "stream",
     "text": [
      "(506, 13)\n"
     ]
    }
   ],
   "source": [
    "x, y = boston.data, boston.target\n",
    "print(x.shape) "
   ]
  },
  {
   "cell_type": "code",
   "execution_count": 51,
   "metadata": {},
   "outputs": [
    {
     "name": "stdout",
     "output_type": "stream",
     "text": [
      "(506, 13, 1)\n"
     ]
    }
   ],
   "source": [
    "#reshape data for Conv1D model\n",
    "x = x.reshape(x.shape[0], x.shape[1], 1)\n",
    "print(x.shape)"
   ]
  },
  {
   "cell_type": "markdown",
   "metadata": {},
   "source": [
    "### Step2: Preparation of training and testing samples <a class=\"anchor\" id=\"Prep_train_test_samples\"></a>"
   ]
  },
  {
   "cell_type": "code",
   "execution_count": 52,
   "metadata": {},
   "outputs": [],
   "source": [
    "X_train, X_test, y_train, y_test=train_test_split(x, y, test_size=0.20) "
   ]
  },
  {
   "cell_type": "code",
   "execution_count": 53,
   "metadata": {},
   "outputs": [
    {
     "name": "stdout",
     "output_type": "stream",
     "text": [
      "(404, 13, 1)\n",
      "(404,)\n",
      "(102, 13, 1)\n",
      "(102,)\n"
     ]
    }
   ],
   "source": [
    "print(X_train.shape)\n",
    "print(y_train.shape)\n",
    "print(X_test.shape)\n",
    "print(y_test.shape)\n"
   ]
  },
  {
   "cell_type": "markdown",
   "metadata": {},
   "source": [
    "### Step3: Building Neural Network <a class=\"anchor\" id=\"Building_NN\"></a>"
   ]
  },
  {
   "cell_type": "code",
   "execution_count": 54,
   "metadata": {},
   "outputs": [
    {
     "name": "stdout",
     "output_type": "stream",
     "text": [
      "Model: \"sequential_4\"\n",
      "_________________________________________________________________\n",
      "Layer (type)                 Output Shape              Param #   \n",
      "=================================================================\n",
      "conv1d_5 (Conv1D)            (None, 12, 32)            96        \n",
      "_________________________________________________________________\n",
      "flatten_4 (Flatten)          (None, 384)               0         \n",
      "_________________________________________________________________\n",
      "dense_8 (Dense)              (None, 64)                24640     \n",
      "_________________________________________________________________\n",
      "dense_9 (Dense)              (None, 1)                 65        \n",
      "=================================================================\n",
      "Total params: 24,801\n",
      "Trainable params: 24,801\n",
      "Non-trainable params: 0\n",
      "_________________________________________________________________\n"
     ]
    }
   ],
   "source": [
    "model = Sequential()\n",
    "model.add(Conv1D(32, 2, activation=\"relu\", input_shape=(13, 1)))\n",
    "model.add(Flatten())\n",
    "model.add(Dense(64, activation=\"relu\"))\n",
    "model.add(Dense(1))\n",
    "model.compile(loss=\"mse\", optimizer=\"adam\")\n",
    " \n",
    "model.summary()"
   ]
  },
  {
   "cell_type": "markdown",
   "metadata": {},
   "source": [
    "### Step4: Fit model <a class=\"anchor\" id=\"fit_model\"></a>"
   ]
  },
  {
   "cell_type": "code",
   "execution_count": 57,
   "metadata": {},
   "outputs": [
    {
     "name": "stdout",
     "output_type": "stream",
     "text": [
      "Epoch 1/200\n",
      "34/34 [==============================] - 0s 4ms/step - loss: 53.1891 - val_loss: 23.7360\n",
      "Epoch 2/200\n",
      "34/34 [==============================] - 0s 3ms/step - loss: 28.5714 - val_loss: 36.1668\n",
      "Epoch 3/200\n",
      "34/34 [==============================] - 0s 3ms/step - loss: 31.7434 - val_loss: 39.2301\n",
      "Epoch 4/200\n",
      "34/34 [==============================] - 0s 3ms/step - loss: 37.3595 - val_loss: 29.2317\n",
      "Epoch 5/200\n",
      "34/34 [==============================] - 0s 6ms/step - loss: 26.5454 - val_loss: 24.4025\n",
      "Epoch 6/200\n",
      "34/34 [==============================] - 0s 3ms/step - loss: 33.6797 - val_loss: 51.6297\n",
      "Epoch 7/200\n",
      "34/34 [==============================] - 0s 3ms/step - loss: 26.9393 - val_loss: 38.8810\n",
      "Epoch 8/200\n",
      "34/34 [==============================] - 0s 3ms/step - loss: 26.0084 - val_loss: 25.0422\n",
      "Epoch 9/200\n",
      "34/34 [==============================] - 0s 4ms/step - loss: 24.0362 - val_loss: 39.3006\n",
      "Epoch 10/200\n",
      "34/34 [==============================] - 0s 4ms/step - loss: 28.1208 - val_loss: 39.9328\n",
      "Epoch 11/200\n",
      "34/34 [==============================] - 0s 4ms/step - loss: 34.6500 - val_loss: 46.4504\n",
      "Epoch 12/200\n",
      "34/34 [==============================] - 0s 3ms/step - loss: 53.2863 - val_loss: 25.1991\n",
      "Epoch 13/200\n",
      "34/34 [==============================] - 0s 3ms/step - loss: 42.8814 - val_loss: 26.1411\n",
      "Epoch 14/200\n",
      "34/34 [==============================] - 0s 3ms/step - loss: 25.6055 - val_loss: 22.5569\n",
      "Epoch 15/200\n",
      "34/34 [==============================] - 0s 3ms/step - loss: 27.3518 - val_loss: 23.6027\n",
      "Epoch 16/200\n",
      "34/34 [==============================] - 0s 3ms/step - loss: 24.6476 - val_loss: 25.3730\n",
      "Epoch 17/200\n",
      "34/34 [==============================] - 0s 3ms/step - loss: 33.3839 - val_loss: 47.5798\n",
      "Epoch 18/200\n",
      "34/34 [==============================] - 0s 3ms/step - loss: 28.3567 - val_loss: 31.6789\n",
      "Epoch 19/200\n",
      "34/34 [==============================] - 0s 3ms/step - loss: 24.5422 - val_loss: 21.7840\n",
      "Epoch 20/200\n",
      "34/34 [==============================] - 0s 3ms/step - loss: 24.8187 - val_loss: 24.1370\n",
      "Epoch 21/200\n",
      "34/34 [==============================] - 0s 3ms/step - loss: 28.0315 - val_loss: 26.0440\n",
      "Epoch 22/200\n",
      "34/34 [==============================] - 0s 3ms/step - loss: 25.5015 - val_loss: 50.3137\n",
      "Epoch 23/200\n",
      "34/34 [==============================] - 0s 3ms/step - loss: 33.3401 - val_loss: 46.9632\n",
      "Epoch 24/200\n",
      "34/34 [==============================] - 0s 3ms/step - loss: 28.5893 - val_loss: 27.7227\n",
      "Epoch 25/200\n",
      "34/34 [==============================] - 0s 3ms/step - loss: 24.8027 - val_loss: 26.3011\n",
      "Epoch 26/200\n",
      "34/34 [==============================] - 0s 3ms/step - loss: 23.1880 - val_loss: 22.8539\n",
      "Epoch 27/200\n",
      "34/34 [==============================] - 0s 3ms/step - loss: 30.4468 - val_loss: 29.5814\n",
      "Epoch 28/200\n",
      "34/34 [==============================] - 0s 3ms/step - loss: 24.6931 - val_loss: 21.5507\n",
      "Epoch 29/200\n",
      "34/34 [==============================] - 0s 3ms/step - loss: 29.6754 - val_loss: 26.3605\n",
      "Epoch 30/200\n",
      "34/34 [==============================] - 0s 3ms/step - loss: 37.6035 - val_loss: 45.3417\n",
      "Epoch 31/200\n",
      "34/34 [==============================] - 0s 3ms/step - loss: 30.0448 - val_loss: 23.1044\n",
      "Epoch 32/200\n",
      "34/34 [==============================] - 0s 3ms/step - loss: 26.6727 - val_loss: 22.4824\n",
      "Epoch 33/200\n",
      "34/34 [==============================] - 0s 3ms/step - loss: 23.7620 - val_loss: 25.1117\n",
      "Epoch 34/200\n",
      "34/34 [==============================] - 0s 3ms/step - loss: 26.4402 - val_loss: 26.4986\n",
      "Epoch 35/200\n",
      "34/34 [==============================] - 0s 4ms/step - loss: 31.6960 - val_loss: 23.9074\n",
      "Epoch 36/200\n",
      "34/34 [==============================] - 0s 4ms/step - loss: 25.9331 - val_loss: 24.1172\n",
      "Epoch 37/200\n",
      "34/34 [==============================] - 0s 4ms/step - loss: 23.4517 - val_loss: 22.7368\n",
      "Epoch 38/200\n",
      "34/34 [==============================] - 0s 6ms/step - loss: 26.2902 - val_loss: 23.0637\n",
      "Epoch 39/200\n",
      "34/34 [==============================] - 0s 3ms/step - loss: 26.1720 - val_loss: 26.2560\n",
      "Epoch 40/200\n",
      "34/34 [==============================] - 0s 3ms/step - loss: 25.5352 - val_loss: 22.2214\n",
      "Epoch 41/200\n",
      "34/34 [==============================] - 0s 3ms/step - loss: 25.6168 - val_loss: 22.7337\n",
      "Epoch 42/200\n",
      "34/34 [==============================] - 0s 3ms/step - loss: 29.5148 - val_loss: 41.5175\n",
      "Epoch 43/200\n",
      "34/34 [==============================] - 0s 3ms/step - loss: 33.1222 - val_loss: 28.1566\n",
      "Epoch 44/200\n",
      "34/34 [==============================] - 0s 3ms/step - loss: 25.3185 - val_loss: 23.2405\n",
      "Epoch 45/200\n",
      "34/34 [==============================] - 0s 3ms/step - loss: 22.8559 - val_loss: 37.8521\n",
      "Epoch 46/200\n",
      "34/34 [==============================] - 0s 3ms/step - loss: 23.9027 - val_loss: 22.1109\n",
      "Epoch 47/200\n",
      "34/34 [==============================] - 0s 3ms/step - loss: 26.6704 - val_loss: 25.6839\n",
      "Epoch 48/200\n",
      "34/34 [==============================] - 0s 4ms/step - loss: 31.6739 - val_loss: 41.3033\n",
      "Epoch 49/200\n",
      "34/34 [==============================] - 0s 4ms/step - loss: 29.1444 - val_loss: 22.1265\n",
      "Epoch 50/200\n",
      "34/34 [==============================] - 0s 3ms/step - loss: 25.5894 - val_loss: 23.3247\n",
      "Epoch 51/200\n",
      "34/34 [==============================] - 0s 3ms/step - loss: 22.5290 - val_loss: 22.3638\n",
      "Epoch 52/200\n",
      "34/34 [==============================] - 0s 3ms/step - loss: 23.3312 - val_loss: 50.3312\n",
      "Epoch 53/200\n",
      "34/34 [==============================] - 0s 3ms/step - loss: 32.0281 - val_loss: 22.3923\n",
      "Epoch 54/200\n",
      "34/34 [==============================] - 0s 3ms/step - loss: 25.1505 - val_loss: 25.0393\n",
      "Epoch 55/200\n",
      "34/34 [==============================] - 0s 3ms/step - loss: 23.9894 - val_loss: 23.5239\n",
      "Epoch 56/200\n",
      "34/34 [==============================] - 0s 3ms/step - loss: 26.4704 - val_loss: 24.1320\n",
      "Epoch 57/200\n",
      "34/34 [==============================] - 0s 3ms/step - loss: 24.5553 - val_loss: 27.9983\n",
      "Epoch 58/200\n",
      "34/34 [==============================] - 0s 3ms/step - loss: 30.3609 - val_loss: 22.8526\n",
      "Epoch 59/200\n",
      "34/34 [==============================] - 0s 3ms/step - loss: 30.1430 - val_loss: 21.0762\n",
      "Epoch 60/200\n",
      "34/34 [==============================] - 0s 3ms/step - loss: 22.2941 - val_loss: 20.8864\n",
      "Epoch 61/200\n",
      "34/34 [==============================] - 0s 3ms/step - loss: 25.2876 - val_loss: 20.9580\n",
      "Epoch 62/200\n",
      "34/34 [==============================] - 0s 3ms/step - loss: 24.2447 - val_loss: 23.9001\n",
      "Epoch 63/200\n",
      "34/34 [==============================] - 0s 4ms/step - loss: 22.7018 - val_loss: 23.7309\n",
      "Epoch 64/200\n",
      "34/34 [==============================] - 0s 4ms/step - loss: 24.1849 - val_loss: 22.5445\n",
      "Epoch 65/200\n",
      "34/34 [==============================] - 0s 3ms/step - loss: 23.5789 - val_loss: 29.2825\n",
      "Epoch 66/200\n",
      "34/34 [==============================] - 0s 3ms/step - loss: 27.2583 - val_loss: 21.4851\n",
      "Epoch 67/200\n",
      "34/34 [==============================] - 0s 3ms/step - loss: 35.7827 - val_loss: 42.5828\n",
      "Epoch 68/200\n",
      "34/34 [==============================] - 0s 4ms/step - loss: 23.5082 - val_loss: 30.5522\n",
      "Epoch 69/200\n",
      "34/34 [==============================] - 0s 3ms/step - loss: 24.6213 - val_loss: 20.3587\n",
      "Epoch 70/200\n",
      "34/34 [==============================] - 0s 4ms/step - loss: 25.5562 - val_loss: 24.4539\n",
      "Epoch 71/200\n",
      "34/34 [==============================] - 0s 6ms/step - loss: 21.9140 - val_loss: 28.1461\n",
      "Epoch 72/200\n",
      "34/34 [==============================] - 0s 3ms/step - loss: 22.8078 - val_loss: 20.9288\n",
      "Epoch 73/200\n",
      "34/34 [==============================] - 0s 3ms/step - loss: 22.4895 - val_loss: 19.9017\n",
      "Epoch 74/200\n",
      "34/34 [==============================] - 0s 3ms/step - loss: 22.6949 - val_loss: 23.2678\n",
      "Epoch 75/200\n",
      "34/34 [==============================] - 0s 3ms/step - loss: 23.8646 - val_loss: 48.9081\n",
      "Epoch 76/200\n",
      "34/34 [==============================] - 0s 3ms/step - loss: 25.0858 - val_loss: 23.2825\n",
      "Epoch 77/200\n",
      "34/34 [==============================] - 0s 4ms/step - loss: 21.8660 - val_loss: 22.6901\n",
      "Epoch 78/200\n",
      "34/34 [==============================] - 0s 5ms/step - loss: 22.2760 - val_loss: 29.1081\n",
      "Epoch 79/200\n",
      "34/34 [==============================] - 0s 3ms/step - loss: 21.4499 - val_loss: 20.2688\n",
      "Epoch 80/200\n",
      "34/34 [==============================] - 0s 3ms/step - loss: 26.6039 - val_loss: 23.2018\n",
      "Epoch 81/200\n"
     ]
    },
    {
     "name": "stdout",
     "output_type": "stream",
     "text": [
      "34/34 [==============================] - 0s 3ms/step - loss: 27.4771 - val_loss: 23.1818\n",
      "Epoch 82/200\n",
      "34/34 [==============================] - 0s 4ms/step - loss: 24.2502 - val_loss: 22.5580\n",
      "Epoch 83/200\n",
      "34/34 [==============================] - 0s 4ms/step - loss: 22.4807 - val_loss: 21.0223\n",
      "Epoch 84/200\n",
      "34/34 [==============================] - 0s 3ms/step - loss: 28.9246 - val_loss: 22.7383\n",
      "Epoch 85/200\n",
      "34/34 [==============================] - 0s 3ms/step - loss: 24.1519 - val_loss: 26.1276\n",
      "Epoch 86/200\n",
      "34/34 [==============================] - 0s 3ms/step - loss: 23.0072 - val_loss: 36.9015\n",
      "Epoch 87/200\n",
      "34/34 [==============================] - 0s 3ms/step - loss: 25.6253 - val_loss: 21.4578\n",
      "Epoch 88/200\n",
      "34/34 [==============================] - 0s 3ms/step - loss: 22.7352 - val_loss: 22.2970\n",
      "Epoch 89/200\n",
      "34/34 [==============================] - 0s 3ms/step - loss: 23.0305 - val_loss: 22.7277\n",
      "Epoch 90/200\n",
      "34/34 [==============================] - 0s 3ms/step - loss: 23.0065 - val_loss: 31.1166\n",
      "Epoch 91/200\n",
      "34/34 [==============================] - 0s 4ms/step - loss: 23.9252 - val_loss: 22.6781\n",
      "Epoch 92/200\n",
      "34/34 [==============================] - 0s 4ms/step - loss: 25.0948 - val_loss: 25.5048\n",
      "Epoch 93/200\n",
      "34/34 [==============================] - 0s 4ms/step - loss: 26.9585 - val_loss: 20.8224\n",
      "Epoch 94/200\n",
      "34/34 [==============================] - 0s 4ms/step - loss: 27.1251 - val_loss: 23.3504\n",
      "Epoch 95/200\n",
      "34/34 [==============================] - 0s 3ms/step - loss: 21.5595 - val_loss: 21.6313\n",
      "Epoch 96/200\n",
      "34/34 [==============================] - 0s 3ms/step - loss: 21.1037 - val_loss: 20.9651\n",
      "Epoch 97/200\n",
      "34/34 [==============================] - 0s 3ms/step - loss: 22.4383 - val_loss: 20.8680\n",
      "Epoch 98/200\n",
      "34/34 [==============================] - 0s 3ms/step - loss: 26.2349 - val_loss: 28.6439\n",
      "Epoch 99/200\n",
      "34/34 [==============================] - 0s 3ms/step - loss: 32.2824 - val_loss: 21.7812\n",
      "Epoch 100/200\n",
      "34/34 [==============================] - 0s 3ms/step - loss: 23.1660 - val_loss: 26.6966\n",
      "Epoch 101/200\n",
      "34/34 [==============================] - 0s 4ms/step - loss: 21.8346 - val_loss: 27.7356\n",
      "Epoch 102/200\n",
      "34/34 [==============================] - 0s 3ms/step - loss: 24.1935 - val_loss: 21.3097\n",
      "Epoch 103/200\n",
      "34/34 [==============================] - 0s 3ms/step - loss: 20.5759 - val_loss: 20.6120\n",
      "Epoch 104/200\n",
      "34/34 [==============================] - 0s 6ms/step - loss: 22.3636 - val_loss: 20.9251\n",
      "Epoch 105/200\n",
      "34/34 [==============================] - 0s 4ms/step - loss: 24.7541 - val_loss: 34.6695\n",
      "Epoch 106/200\n",
      "34/34 [==============================] - 0s 3ms/step - loss: 21.3784 - val_loss: 22.8010\n",
      "Epoch 107/200\n",
      "34/34 [==============================] - 0s 3ms/step - loss: 24.9935 - val_loss: 26.2569\n",
      "Epoch 108/200\n",
      "34/34 [==============================] - 0s 3ms/step - loss: 19.9287 - val_loss: 22.2122\n",
      "Epoch 109/200\n",
      "34/34 [==============================] - 0s 3ms/step - loss: 23.8279 - val_loss: 21.4131\n",
      "Epoch 110/200\n",
      "34/34 [==============================] - 0s 3ms/step - loss: 21.4886 - val_loss: 20.8295\n",
      "Epoch 111/200\n",
      "34/34 [==============================] - 0s 3ms/step - loss: 21.5975 - val_loss: 19.6870\n",
      "Epoch 112/200\n",
      "34/34 [==============================] - 0s 3ms/step - loss: 21.0044 - val_loss: 23.6173\n",
      "Epoch 113/200\n",
      "34/34 [==============================] - 0s 3ms/step - loss: 21.7399 - val_loss: 21.6019\n",
      "Epoch 114/200\n",
      "34/34 [==============================] - 0s 3ms/step - loss: 21.1476 - val_loss: 34.1967\n",
      "Epoch 115/200\n",
      "34/34 [==============================] - 0s 3ms/step - loss: 21.9362 - val_loss: 21.9872\n",
      "Epoch 116/200\n",
      "34/34 [==============================] - 0s 3ms/step - loss: 21.1258 - val_loss: 21.7084\n",
      "Epoch 117/200\n",
      "34/34 [==============================] - 0s 3ms/step - loss: 20.5347 - val_loss: 22.1719\n",
      "Epoch 118/200\n",
      "34/34 [==============================] - 0s 4ms/step - loss: 20.9787 - val_loss: 21.5886\n",
      "Epoch 119/200\n",
      "34/34 [==============================] - 0s 3ms/step - loss: 19.0964 - val_loss: 19.7306\n",
      "Epoch 120/200\n",
      "34/34 [==============================] - 0s 4ms/step - loss: 22.1336 - val_loss: 19.5503\n",
      "Epoch 121/200\n",
      "34/34 [==============================] - 0s 3ms/step - loss: 20.6650 - val_loss: 21.8274\n",
      "Epoch 122/200\n",
      "34/34 [==============================] - 0s 3ms/step - loss: 20.5522 - val_loss: 24.3258\n",
      "Epoch 123/200\n",
      "34/34 [==============================] - 0s 3ms/step - loss: 20.6089 - val_loss: 25.2026\n",
      "Epoch 124/200\n",
      "34/34 [==============================] - 0s 3ms/step - loss: 20.0482 - val_loss: 22.6733\n",
      "Epoch 125/200\n",
      "34/34 [==============================] - 0s 3ms/step - loss: 19.6309 - val_loss: 23.2077\n",
      "Epoch 126/200\n",
      "34/34 [==============================] - 0s 4ms/step - loss: 20.2690 - val_loss: 27.9348\n",
      "Epoch 127/200\n",
      "34/34 [==============================] - 0s 4ms/step - loss: 23.4481 - val_loss: 20.9621\n",
      "Epoch 128/200\n",
      "34/34 [==============================] - 0s 4ms/step - loss: 21.9749 - val_loss: 24.6174\n",
      "Epoch 129/200\n",
      "34/34 [==============================] - 0s 3ms/step - loss: 23.5281 - val_loss: 21.7136\n",
      "Epoch 130/200\n",
      "34/34 [==============================] - 0s 3ms/step - loss: 20.0285 - val_loss: 20.3154\n",
      "Epoch 131/200\n",
      "34/34 [==============================] - 0s 3ms/step - loss: 20.9935 - val_loss: 22.3586\n",
      "Epoch 132/200\n",
      "34/34 [==============================] - 0s 4ms/step - loss: 22.4060 - val_loss: 26.1701\n",
      "Epoch 133/200\n",
      "34/34 [==============================] - 0s 3ms/step - loss: 23.6698 - val_loss: 24.2247\n",
      "Epoch 134/200\n",
      "34/34 [==============================] - 0s 4ms/step - loss: 22.5442 - val_loss: 21.2041\n",
      "Epoch 135/200\n",
      "34/34 [==============================] - 0s 3ms/step - loss: 18.7967 - val_loss: 20.1865\n",
      "Epoch 136/200\n",
      "34/34 [==============================] - 0s 4ms/step - loss: 19.0772 - val_loss: 19.4942\n",
      "Epoch 137/200\n",
      "34/34 [==============================] - 0s 6ms/step - loss: 19.0512 - val_loss: 19.6612\n",
      "Epoch 138/200\n",
      "34/34 [==============================] - 0s 3ms/step - loss: 19.6999 - val_loss: 19.1196\n",
      "Epoch 139/200\n",
      "34/34 [==============================] - 0s 4ms/step - loss: 24.8405 - val_loss: 40.3165\n",
      "Epoch 140/200\n",
      "34/34 [==============================] - 0s 3ms/step - loss: 20.2906 - val_loss: 21.1265\n",
      "Epoch 141/200\n",
      "34/34 [==============================] - 0s 4ms/step - loss: 19.7292 - val_loss: 24.4907\n",
      "Epoch 142/200\n",
      "34/34 [==============================] - 0s 3ms/step - loss: 26.5095 - val_loss: 27.4028\n",
      "Epoch 143/200\n",
      "34/34 [==============================] - 0s 3ms/step - loss: 22.1419 - val_loss: 21.1877\n",
      "Epoch 144/200\n",
      "34/34 [==============================] - 0s 3ms/step - loss: 24.6208 - val_loss: 20.7681\n",
      "Epoch 145/200\n",
      "34/34 [==============================] - 0s 3ms/step - loss: 21.4284 - val_loss: 19.9252\n",
      "Epoch 146/200\n",
      "34/34 [==============================] - 0s 3ms/step - loss: 20.4885 - val_loss: 21.3748\n",
      "Epoch 147/200\n",
      "34/34 [==============================] - 0s 3ms/step - loss: 22.8178 - val_loss: 22.4405\n",
      "Epoch 148/200\n",
      "34/34 [==============================] - 0s 3ms/step - loss: 19.9739 - val_loss: 19.0567\n",
      "Epoch 149/200\n",
      "34/34 [==============================] - 0s 4ms/step - loss: 21.9807 - val_loss: 36.2716\n",
      "Epoch 150/200\n",
      "34/34 [==============================] - 0s 3ms/step - loss: 22.3018 - val_loss: 20.5012\n",
      "Epoch 151/200\n",
      "34/34 [==============================] - 0s 3ms/step - loss: 19.4749 - val_loss: 27.7446\n",
      "Epoch 152/200\n",
      "34/34 [==============================] - 0s 3ms/step - loss: 24.6403 - val_loss: 20.5175\n",
      "Epoch 153/200\n",
      "34/34 [==============================] - 0s 4ms/step - loss: 21.2198 - val_loss: 21.0308\n",
      "Epoch 154/200\n",
      "34/34 [==============================] - 0s 4ms/step - loss: 22.2448 - val_loss: 30.2316\n",
      "Epoch 155/200\n",
      "34/34 [==============================] - 0s 3ms/step - loss: 19.1281 - val_loss: 24.0018\n",
      "Epoch 156/200\n",
      "34/34 [==============================] - 0s 4ms/step - loss: 19.4659 - val_loss: 19.0277\n",
      "Epoch 157/200\n",
      "34/34 [==============================] - 0s 3ms/step - loss: 18.2207 - val_loss: 18.8971\n",
      "Epoch 158/200\n",
      "34/34 [==============================] - 0s 3ms/step - loss: 18.1791 - val_loss: 24.0984\n",
      "Epoch 159/200\n",
      "34/34 [==============================] - 0s 3ms/step - loss: 20.4102 - val_loss: 23.8684\n",
      "Epoch 160/200\n",
      "34/34 [==============================] - 0s 4ms/step - loss: 28.8580 - val_loss: 19.7050\n"
     ]
    },
    {
     "name": "stdout",
     "output_type": "stream",
     "text": [
      "Epoch 161/200\n",
      "34/34 [==============================] - 0s 4ms/step - loss: 18.9341 - val_loss: 21.3790\n",
      "Epoch 162/200\n",
      "34/34 [==============================] - 0s 3ms/step - loss: 19.1373 - val_loss: 20.5892\n",
      "Epoch 163/200\n",
      "34/34 [==============================] - 0s 4ms/step - loss: 19.7563 - val_loss: 22.7360\n",
      "Epoch 164/200\n",
      "34/34 [==============================] - 0s 3ms/step - loss: 18.5755 - val_loss: 31.3167\n",
      "Epoch 165/200\n",
      "34/34 [==============================] - 0s 3ms/step - loss: 24.5731 - val_loss: 43.4049\n",
      "Epoch 166/200\n",
      "34/34 [==============================] - 0s 4ms/step - loss: 23.3226 - val_loss: 19.5501\n",
      "Epoch 167/200\n",
      "34/34 [==============================] - 0s 3ms/step - loss: 19.1628 - val_loss: 18.9944\n",
      "Epoch 168/200\n",
      "34/34 [==============================] - 0s 4ms/step - loss: 18.0621 - val_loss: 22.3063\n",
      "Epoch 169/200\n",
      "34/34 [==============================] - 0s 3ms/step - loss: 24.4027 - val_loss: 22.4122\n",
      "Epoch 170/200\n",
      "34/34 [==============================] - 0s 6ms/step - loss: 18.2405 - val_loss: 19.2955\n",
      "Epoch 171/200\n",
      "34/34 [==============================] - 0s 3ms/step - loss: 17.2902 - val_loss: 19.2625\n",
      "Epoch 172/200\n",
      "34/34 [==============================] - 0s 4ms/step - loss: 23.8731 - val_loss: 45.4346\n",
      "Epoch 173/200\n",
      "34/34 [==============================] - 0s 3ms/step - loss: 22.6208 - val_loss: 29.0789\n",
      "Epoch 174/200\n",
      "34/34 [==============================] - 0s 4ms/step - loss: 22.8793 - val_loss: 21.0216\n",
      "Epoch 175/200\n",
      "34/34 [==============================] - 0s 3ms/step - loss: 18.7631 - val_loss: 22.1303\n",
      "Epoch 176/200\n",
      "34/34 [==============================] - 0s 3ms/step - loss: 16.9743 - val_loss: 20.5052\n",
      "Epoch 177/200\n",
      "34/34 [==============================] - 0s 3ms/step - loss: 17.9883 - val_loss: 20.0377\n",
      "Epoch 178/200\n",
      "34/34 [==============================] - 0s 3ms/step - loss: 19.9421 - val_loss: 23.6171\n",
      "Epoch 179/200\n",
      "34/34 [==============================] - 0s 3ms/step - loss: 18.1252 - val_loss: 19.7668\n",
      "Epoch 180/200\n",
      "34/34 [==============================] - 0s 4ms/step - loss: 18.2994 - val_loss: 19.8296\n",
      "Epoch 181/200\n",
      "34/34 [==============================] - 0s 3ms/step - loss: 16.6890 - val_loss: 22.5386\n",
      "Epoch 182/200\n",
      "34/34 [==============================] - 0s 3ms/step - loss: 20.7854 - val_loss: 19.1599\n",
      "Epoch 183/200\n",
      "34/34 [==============================] - 0s 3ms/step - loss: 30.5267 - val_loss: 31.4843\n",
      "Epoch 184/200\n",
      "34/34 [==============================] - 0s 4ms/step - loss: 29.1671 - val_loss: 20.6252\n",
      "Epoch 185/200\n",
      "34/34 [==============================] - 0s 4ms/step - loss: 19.0991 - val_loss: 21.8292\n",
      "Epoch 186/200\n",
      "34/34 [==============================] - 0s 4ms/step - loss: 23.1809 - val_loss: 25.1985\n",
      "Epoch 187/200\n",
      "34/34 [==============================] - 0s 4ms/step - loss: 20.3998 - val_loss: 19.0012\n",
      "Epoch 188/200\n",
      "34/34 [==============================] - 0s 3ms/step - loss: 17.8236 - val_loss: 33.0878\n",
      "Epoch 189/200\n",
      "34/34 [==============================] - 0s 3ms/step - loss: 20.8995 - val_loss: 23.1224\n",
      "Epoch 190/200\n",
      "34/34 [==============================] - 0s 3ms/step - loss: 18.8240 - val_loss: 19.2808\n",
      "Epoch 191/200\n",
      "34/34 [==============================] - 0s 4ms/step - loss: 17.4614 - val_loss: 18.6348\n",
      "Epoch 192/200\n",
      "34/34 [==============================] - 0s 3ms/step - loss: 17.2017 - val_loss: 28.0100\n",
      "Epoch 193/200\n",
      "34/34 [==============================] - 0s 3ms/step - loss: 20.3111 - val_loss: 18.5133\n",
      "Epoch 194/200\n",
      "34/34 [==============================] - 0s 3ms/step - loss: 22.5222 - val_loss: 20.8051\n",
      "Epoch 195/200\n",
      "34/34 [==============================] - 0s 3ms/step - loss: 20.8563 - val_loss: 28.2796\n",
      "Epoch 196/200\n",
      "34/34 [==============================] - 0s 3ms/step - loss: 17.6031 - val_loss: 19.4362\n",
      "Epoch 197/200\n",
      "34/34 [==============================] - 0s 4ms/step - loss: 17.7266 - val_loss: 31.9725\n",
      "Epoch 198/200\n",
      "34/34 [==============================] - 0s 3ms/step - loss: 20.3879 - val_loss: 22.2085\n",
      "Epoch 199/200\n",
      "34/34 [==============================] - 0s 4ms/step - loss: 17.9082 - val_loss: 28.0288\n",
      "Epoch 200/200\n",
      "34/34 [==============================] - 0s 3ms/step - loss: 21.5126 - val_loss: 19.3259\n"
     ]
    },
    {
     "data": {
      "text/plain": [
       "<tensorflow.python.keras.callbacks.History at 0x7f326c1fe150>"
      ]
     },
     "execution_count": 57,
     "metadata": {},
     "output_type": "execute_result"
    }
   ],
   "source": [
    "model.fit(X_train, y_train, validation_data=(X_test, y_test), batch_size=12,epochs=200, verbose=1)\n"
   ]
  },
  {
   "cell_type": "markdown",
   "metadata": {},
   "source": [
    "### Step5: Predictions <a class=\"anchor\" id=\"predictions\"></a>"
   ]
  },
  {
   "cell_type": "code",
   "execution_count": 58,
   "metadata": {},
   "outputs": [],
   "source": [
    "y_pred = model.predict(X_test)"
   ]
  },
  {
   "cell_type": "code",
   "execution_count": 59,
   "metadata": {},
   "outputs": [
    {
     "name": "stdout",
     "output_type": "stream",
     "text": [
      "13/13 [==============================] - 0s 1ms/step - loss: 15.3920\n",
      "15.392040252685547\n"
     ]
    }
   ],
   "source": [
    "print(model.evaluate(X_train, y_train))"
   ]
  },
  {
   "cell_type": "code",
   "execution_count": 60,
   "metadata": {},
   "outputs": [
    {
     "name": "stdout",
     "output_type": "stream",
     "text": [
      "MSE: 19.3259\n"
     ]
    }
   ],
   "source": [
    "print(\"MSE: %.4f\" % mean_squared_error(y_test, y_pred))"
   ]
  },
  {
   "cell_type": "markdown",
   "metadata": {},
   "source": [
    "### Step6: Visualizing the results <a class=\"anchor\" id=\"results\"></a>"
   ]
  },
  {
   "cell_type": "code",
   "execution_count": 61,
   "metadata": {},
   "outputs": [
    {
     "data": {
      "image/png": "[encoded data removed]",
      "text/plain": [
       "<Figure size 1584x720 with 1 Axes>"
      ]
     },
     "metadata": {},
     "output_type": "display_data"
    }
   ],
   "source": [
    "x_ax = range(len(y_pred))\n",
    "plt.scatter(x_ax, y_test, s=5, color=\"blue\", label=\"original\")\n",
    "plt.plot(x_ax, y_pred, lw=0.8, color=\"green\", label=\"predicted\")\n",
    "plt.legend()\n",
    "plt.show()\n"
   ]
  },
  {
   "cell_type": "markdown",
   "metadata": {},
   "source": [
    "### two things remaining\n",
    "1. Prevent overfitting\n",
    "2. Tune Hyperparameters"
   ]
  },
  {
   "cell_type": "code",
   "execution_count": null,
   "metadata": {},
   "outputs": [],
   "source": []
  }
 ],
 "metadata": {
  "kernelspec": {
   "display_name": "Python [conda env:root] *",
   "language": "python",
   "name": "conda-root-py"
  },
  "language_info": {
   "codemirror_mode": {
    "name": "ipython",
    "version": 3
   },
   "file_extension": ".py",
   "mimetype": "text/x-python",
   "name": "python",
   "nbconvert_exporter": "python",
   "pygments_lexer": "ipython3",
   "version": "3.7.6"
  }
 },
 "nbformat": 4,
 "nbformat_minor": 4
}
